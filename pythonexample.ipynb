{
  "nbformat": 4,
  "nbformat_minor": 0,
  "metadata": {
    "colab": {
      "provenance": [],
      "authorship_tag": "ABX9TyPRzifaTzqGfZgEO6ayJnS7",
      "include_colab_link": true
    },
    "kernelspec": {
      "name": "python3",
      "display_name": "Python 3"
    },
    "language_info": {
      "name": "python"
    }
  },
  "cells": [
    {
      "cell_type": "markdown",
      "metadata": {
        "id": "view-in-github",
        "colab_type": "text"
      },
      "source": [
        "<a href=\"https://colab.research.google.com/github/graceponce/Proyecto-Sitio-Web-I-EjemploClase-/blob/main/pythonexample.ipynb\" target=\"_parent\"><img src=\"https://colab.research.google.com/assets/colab-badge.svg\" alt=\"Open In Colab\"/></a>"
      ]
    },
    {
      "cell_type": "code",
      "execution_count": 1,
      "metadata": {
        "colab": {
          "base_uri": "https://localhost:8080/"
        },
        "id": "L1C49RNdq9yo",
        "outputId": "8cb9c96f-894f-48e5-a25d-88ab257373de"
      },
      "outputs": [
        {
          "output_type": "stream",
          "name": "stdout",
          "text": [
            "welcome to my game...let's play\n",
            "Enter a color: red\n",
            "enter a plural noun: cake\n",
            "enter a celebrity: john lennon\n",
            "roses are:  red\n",
            "cakeare blue\n",
            "I love john lennon\n"
          ]
        }
      ],
      "source": [
        "print(\"welcome to my game...let's play\")\n",
        "color=input(\"Enter a color: \")\n",
        "pluralnoun=input(\"enter a plural noun: \")\n",
        "celebrity=input(\"enter a celebrity: \")\n",
        "\n",
        "print(\"roses are: \",color)\n",
        "print(pluralnoun +\"are blue\")\n",
        "print(\"I love\",celebrity)"
      ]
    },
    {
      "cell_type": "code",
      "source": [
        "#es una introduccion sobre python\n",
        "\n",
        "\n",
        "#variables\n",
        "first_name='Grace'\n",
        "last_name='Ponce'\n",
        "age=30\n",
        "height=1.51\n",
        "print('Happy Birthday '+ first_name + ' '+ last_name + 'Congrats on turning ' + str(age) +'.')\n",
        "\n",
        "#print('Happy Birthday ',first_name ,' ',last_name ,'Congrats on turning ',age ,'.',sep=' ')\n",
        "#print('Happy Birthday'{}{} 'Congrats on turning'{}'.'.format(first_name,last_name,age))\n",
        "menssage=f'Happy Birthday {first_name}{last_name}Congrats on turning {age} '\n",
        "print(menssage)\n",
        "\n",
        "first_name1=input('what is your first name? \\n')\n",
        "last_name1=input('what is your last name? \\n')\n",
        "pet_name=input('what is your pet\\s name?\\n')\n",
        "print(f'hey {first_name1} {last_name1} thank u for applying')\n",
        "\n"
      ],
      "metadata": {
        "colab": {
          "base_uri": "https://localhost:8080/"
        },
        "id": "jUzS_NK6sHO6",
        "outputId": "92dfabd8-a7f5-49fc-f975-ecd25c2f78fa"
      },
      "execution_count": 2,
      "outputs": [
        {
          "output_type": "stream",
          "name": "stdout",
          "text": [
            "Happy Birthday Grace PonceCongrats on turning 30.\n",
            "Happy Birthday GracePonceCongrats on turning 30 \n",
            "what is your first name? \n",
            "grace\n",
            "what is your last name? \n",
            "ponce\n",
            "what is your pet\\s name?\n",
            "ali\n",
            "hey grace ponce thank u for applying\n"
          ]
        }
      ]
    },
    {
      "cell_type": "code",
      "source": [
        "multiple=5\n",
        "\n",
        "for num in range(1,21):\n",
        "    print(f'{num}x{multiple}={num*multiple}')"
      ],
      "metadata": {
        "colab": {
          "base_uri": "https://localhost:8080/"
        },
        "id": "f2jUcXGZsOps",
        "outputId": "d8f6d7cd-ea64-46fc-b827-26fc09c9788a"
      },
      "execution_count": 3,
      "outputs": [
        {
          "output_type": "stream",
          "name": "stdout",
          "text": [
            "1x5=5\n",
            "2x5=10\n",
            "3x5=15\n",
            "4x5=20\n",
            "5x5=25\n",
            "6x5=30\n",
            "7x5=35\n",
            "8x5=40\n",
            "9x5=45\n",
            "10x5=50\n",
            "11x5=55\n",
            "12x5=60\n",
            "13x5=65\n",
            "14x5=70\n",
            "15x5=75\n",
            "16x5=80\n",
            "17x5=85\n",
            "18x5=90\n",
            "19x5=95\n",
            "20x5=100\n"
          ]
        }
      ]
    },
    {
      "cell_type": "code",
      "source": [
        "current_hour=20\n",
        "if current_hour<=12:\n",
        " print('good morning')\n",
        "elif current_hour>=12 and current_hour<=18:\n",
        " print('good afternoon')\n",
        "else:\n",
        "    print('good nigth')"
      ],
      "metadata": {
        "colab": {
          "base_uri": "https://localhost:8080/"
        },
        "id": "JBuLoN42sTDK",
        "outputId": "685a3ccf-0eb2-46e7-bdc4-5afac46af515"
      },
      "execution_count": 4,
      "outputs": [
        {
          "output_type": "stream",
          "name": "stdout",
          "text": [
            "good nigth\n"
          ]
        }
      ]
    },
    {
      "cell_type": "code",
      "source": [
        "factor=5\n",
        "counter=1\n",
        "\n",
        "while counter<=10:\n",
        "    print(f'{counter}x{factor}={counter*factor}')\n",
        "    counter +=1"
      ],
      "metadata": {
        "colab": {
          "base_uri": "https://localhost:8080/"
        },
        "id": "bZR-9kAZsXM4",
        "outputId": "7b48e7ed-83e3-4783-de13-5b52b27c7564"
      },
      "execution_count": 5,
      "outputs": [
        {
          "output_type": "stream",
          "name": "stdout",
          "text": [
            "1x5=5\n",
            "2x5=10\n",
            "3x5=15\n",
            "4x5=20\n",
            "5x5=25\n",
            "6x5=30\n",
            "7x5=35\n",
            "8x5=40\n",
            "9x5=45\n",
            "10x5=50\n"
          ]
        }
      ]
    }
  ]
}