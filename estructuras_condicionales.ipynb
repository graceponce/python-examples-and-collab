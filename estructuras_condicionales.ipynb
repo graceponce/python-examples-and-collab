{
  "nbformat": 4,
  "nbformat_minor": 0,
  "metadata": {
    "colab": {
      "provenance": [],
      "authorship_tag": "ABX9TyMv/hSIHT9vmukSfdaKQVlR",
      "include_colab_link": true
    },
    "kernelspec": {
      "name": "python3",
      "display_name": "Python 3"
    },
    "language_info": {
      "name": "python"
    }
  },
  "cells": [
    {
      "cell_type": "markdown",
      "metadata": {
        "id": "view-in-github",
        "colab_type": "text"
      },
      "source": [
        "<a href=\"https://colab.research.google.com/github/graceponce/python-examples-and-collab/blob/main/estructuras_condicionales.ipynb\" target=\"_parent\"><img src=\"https://colab.research.google.com/assets/colab-badge.svg\" alt=\"Open In Colab\"/></a>"
      ]
    },
    {
      "cell_type": "markdown",
      "source": [
        "Escribir un programa que solicite al usuario un número entero y muestre en pantalla si el número es Positivo (+) o Negativo (-). En caso de que el número sea igual a cero (0) se debe mostrar en pantalla: El número no es Positivo ni Negativo."
      ],
      "metadata": {
        "id": "zUZ5M6ZHxtFu"
      }
    },
    {
      "cell_type": "code",
      "execution_count": 5,
      "metadata": {
        "id": "2ehEPffmw0QP",
        "colab": {
          "base_uri": "https://localhost:8080/"
        },
        "outputId": "62ea3117-c826-4206-ed2d-118b165ce08f"
      },
      "outputs": [
        {
          "output_type": "stream",
          "name": "stdout",
          "text": [
            "Ingrese un numero: 0\n",
            "El numero no es Positivo ni negativo\n"
          ]
        }
      ],
      "source": [
        "numero=0\n",
        "numero=int(input(\"Ingrese un numero: \"))\n",
        "if numero==0:\n",
        "  print(\"El numero no es Positivo ni negativo\")\n",
        "elif numero>0:\n",
        "  print(\"el numero es positivo(+)\")\n",
        "else:\n",
        "  print(\"el numero es negativo(-)\")"
      ]
    },
    {
      "cell_type": "markdown",
      "source": [
        "Escribir un Programa que solicite al usuario la edad de 2 personas, y diga cuál es mayor. Ejemplo:\n",
        "\n",
        "- La Primera persona es mayor!\n",
        "\n",
        "Si la edad de ambos es igual se muestra el siguiente mensaje:\n",
        "\n",
        "- Ambos tienen la misma edad!"
      ],
      "metadata": {
        "id": "ic664ADQzLFZ"
      }
    },
    {
      "cell_type": "code",
      "source": [
        "int_Primera_Persona=0\n",
        "int_Segunda_Persona=0\n",
        "int_Primera_Persona=int(input(\"Ingrese edad persona 1: \"))\n",
        "int_Segunda_Persona=int(input(\"Ingrese edad persona 2: \"))\n",
        "if int_Primera_Persona==int_Segunda_Persona:\n",
        "  print(\"ambos tiene la misma edad\")\n",
        "elif int_Segunda_Persona<int_Primera_Persona:\n",
        "  print(\"la primera persona es mayor que la segunda persona\")\n",
        "else:\n",
        "  print(\"La segunda persona es mayor que la primera persona\")"
      ],
      "metadata": {
        "colab": {
          "base_uri": "https://localhost:8080/"
        },
        "id": "q9NWhojdzPu6",
        "outputId": "03e86c67-1112-42a9-d873-eabcffb0d2a4"
      },
      "execution_count": 16,
      "outputs": [
        {
          "output_type": "stream",
          "name": "stdout",
          "text": [
            "Ingrese edad persona 1: 9\n",
            "Ingrese edad persona 2: 9\n",
            "ambos tiene la misma edad\n"
          ]
        }
      ]
    },
    {
      "cell_type": "markdown",
      "source": [
        "Introducir un número por teclado y que se muestre un mensaje indicando si es par o impar."
      ],
      "metadata": {
        "id": "wlvJwnLf3B4Z"
      }
    },
    {
      "cell_type": "code",
      "source": [
        "int_num=0\n",
        "int_num=int(input(\"Ingrese un numero: \"))\n",
        "if int_num==(int_num//2)*2:\n",
        "  print(\"el numero %d es par\"%(int_num))\n",
        "else:\n",
        "  print(\"el numero %d es impar\"%(int_num))"
      ],
      "metadata": {
        "colab": {
          "base_uri": "https://localhost:8080/"
        },
        "id": "XfWbCcrO3FWT",
        "outputId": "d19db31c-3b95-4c5b-c9a0-2dd6960ff4a0"
      },
      "execution_count": 18,
      "outputs": [
        {
          "output_type": "stream",
          "name": "stdout",
          "text": [
            "Ingrese un numero: 3\n",
            "el numero 3 es impar\n"
          ]
        }
      ]
    },
    {
      "cell_type": "markdown",
      "source": [
        "Introducir un número por teclado y que se muestre un mensaje indicando si es múltiplo de 3."
      ],
      "metadata": {
        "id": "XA9jKE4d3wYi"
      }
    },
    {
      "cell_type": "code",
      "source": [
        "int_numero=0\n",
        "int_numero=int(input(\"Ingrese un Numero: \"))\n",
        "if int_numero==(int_numero//3)*3:\n",
        "  print(\"el numero %d es multiplo de 3\"%(int_numero))\n",
        "else:\n",
        "  print(\"el numero %d no es multiplo de 3\"%(int_numero))"
      ],
      "metadata": {
        "colab": {
          "base_uri": "https://localhost:8080/"
        },
        "id": "39ZIptWU31HU",
        "outputId": "ec3082f1-e17b-4293-e6c5-b370e8505757"
      },
      "execution_count": 20,
      "outputs": [
        {
          "output_type": "stream",
          "name": "stdout",
          "text": [
            "Ingrese un Numero: 10\n",
            "el numero 10 no es multiplo de 3\n"
          ]
        }
      ]
    },
    {
      "cell_type": "markdown",
      "source": [
        "En la práctica, existe un código estándar, el código ASCII (código estándar amer icano para intercambio de información), que relaciona cada letra, número o símbolo con una cifra del 0 al 255 (con una secuencia de 8 bits):\n",
        "\n",
        "La \"a\" es el número 97\n",
        "\n",
        "La \"b\" es el número 98\n",
        "\n",
        "La \"A\" es el número 65,\n",
        "\n",
        "La \"B\" es el número  67.\n",
        "\n",
        "El  \"0\" es el número 48\n",
        "\n",
        "El  \"1\" es el número 49, etc.\n",
        "\n",
        "Así se tiene una forma muy cómoda de almacenar la información en ordenadores, ya que cada letra ocupará exactamente un byte (8 bits: 8 posiciones elementales de memoria).\n",
        "\n",
        "► Enunciado:\n",
        "\n",
        "Escribir un programa que solicite al usuario una letra y diga si esta es MAYÚSCULA o minúscula."
      ],
      "metadata": {
        "id": "f0IPutAK4kZN"
      }
    },
    {
      "cell_type": "code",
      "source": [],
      "metadata": {
        "id": "wFrIUvFJ4yj-"
      },
      "execution_count": null,
      "outputs": []
    }
  ]
}