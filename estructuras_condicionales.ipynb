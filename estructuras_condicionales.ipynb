{
  "nbformat": 4,
  "nbformat_minor": 0,
  "metadata": {
    "colab": {
      "provenance": [],
      "authorship_tag": "ABX9TyNrPOC7EX9eDfZC52UG0HO5",
      "include_colab_link": true
    },
    "kernelspec": {
      "name": "python3",
      "display_name": "Python 3"
    },
    "language_info": {
      "name": "python"
    }
  },
  "cells": [
    {
      "cell_type": "markdown",
      "metadata": {
        "id": "view-in-github",
        "colab_type": "text"
      },
      "source": [
        "<a href=\"https://colab.research.google.com/github/graceponce/python-examples-and-collab/blob/main/estructuras_condicionales.ipynb\" target=\"_parent\"><img src=\"https://colab.research.google.com/assets/colab-badge.svg\" alt=\"Open In Colab\"/></a>"
      ]
    },
    {
      "cell_type": "markdown",
      "source": [
        "Escribir un programa que solicite al usuario un número entero y muestre en pantalla si el número es Positivo (+) o Negativo (-). En caso de que el número sea igual a cero (0) se debe mostrar en pantalla: El número no es Positivo ni Negativo."
      ],
      "metadata": {
        "id": "zUZ5M6ZHxtFu"
      }
    },
    {
      "cell_type": "code",
      "execution_count": 5,
      "metadata": {
        "id": "2ehEPffmw0QP",
        "colab": {
          "base_uri": "https://localhost:8080/"
        },
        "outputId": "62ea3117-c826-4206-ed2d-118b165ce08f"
      },
      "outputs": [
        {
          "output_type": "stream",
          "name": "stdout",
          "text": [
            "Ingrese un numero: 0\n",
            "El numero no es Positivo ni negativo\n"
          ]
        }
      ],
      "source": [
        "numero=0\n",
        "numero=int(input(\"Ingrese un numero: \"))\n",
        "if numero==0:\n",
        "  print(\"El numero no es Positivo ni negativo\")\n",
        "elif numero>0:\n",
        "  print(\"el numero es positivo(+)\")\n",
        "else:\n",
        "  print(\"el numero es negativo(-)\")"
      ]
    },
    {
      "cell_type": "markdown",
      "source": [
        "Escribir un Programa que solicite al usuario la edad de 2 personas, y diga cuál es mayor. Ejemplo:\n",
        "\n",
        "- La Primera persona es mayor!\n",
        "\n",
        "Si la edad de ambos es igual se muestra el siguiente mensaje:\n",
        "\n",
        "- Ambos tienen la misma edad!"
      ],
      "metadata": {
        "id": "ic664ADQzLFZ"
      }
    },
    {
      "cell_type": "code",
      "source": [
        "int_Primera_Persona=0\n",
        "int_Segunda_Persona=0\n",
        "int_Primera_Persona=int(input(\"Ingrese edad persona 1: \"))\n",
        "int_Segunda_Persona=int(input(\"Ingrese edad persona 2: \"))\n",
        "if int_Primera_Persona==int_Segunda_Persona:\n",
        "  print(\"ambos tiene la misma edad\")\n",
        "elif int_Segunda_Persona<int_Primera_Persona:\n",
        "  print(\"la primera persona es mayor que la segunda persona\")\n",
        "else:\n",
        "  print(\"La segunda persona es mayor que la primera persona\")"
      ],
      "metadata": {
        "colab": {
          "base_uri": "https://localhost:8080/"
        },
        "id": "q9NWhojdzPu6",
        "outputId": "03e86c67-1112-42a9-d873-eabcffb0d2a4"
      },
      "execution_count": 16,
      "outputs": [
        {
          "output_type": "stream",
          "name": "stdout",
          "text": [
            "Ingrese edad persona 1: 9\n",
            "Ingrese edad persona 2: 9\n",
            "ambos tiene la misma edad\n"
          ]
        }
      ]
    },
    {
      "cell_type": "markdown",
      "source": [
        "Introducir un número por teclado y que se muestre un mensaje indicando si es par o impar."
      ],
      "metadata": {
        "id": "wlvJwnLf3B4Z"
      }
    },
    {
      "cell_type": "code",
      "source": [
        "int_num=0\n",
        "int_num=int(input(\"Ingrese un numero: \"))\n",
        "if int_num==(int_num//2)*2:\n",
        "  print(\"el numero %d es par\"%(int_num))\n",
        "else:\n",
        "  print(\"el numero %d es impar\"%(int_num))"
      ],
      "metadata": {
        "colab": {
          "base_uri": "https://localhost:8080/"
        },
        "id": "XfWbCcrO3FWT",
        "outputId": "d19db31c-3b95-4c5b-c9a0-2dd6960ff4a0"
      },
      "execution_count": 18,
      "outputs": [
        {
          "output_type": "stream",
          "name": "stdout",
          "text": [
            "Ingrese un numero: 3\n",
            "el numero 3 es impar\n"
          ]
        }
      ]
    },
    {
      "cell_type": "markdown",
      "source": [
        "Introducir un número por teclado y que se muestre un mensaje indicando si es múltiplo de 3."
      ],
      "metadata": {
        "id": "XA9jKE4d3wYi"
      }
    },
    {
      "cell_type": "code",
      "source": [
        "int_numero=0\n",
        "int_numero=int(input(\"Ingrese un Numero: \"))\n",
        "if int_numero==(int_numero//3)*3:\n",
        "  print(\"el numero %d es multiplo de 3\"%(int_numero))\n",
        "else:\n",
        "  print(\"el numero %d no es multiplo de 3\"%(int_numero))"
      ],
      "metadata": {
        "colab": {
          "base_uri": "https://localhost:8080/"
        },
        "id": "39ZIptWU31HU",
        "outputId": "ec3082f1-e17b-4293-e6c5-b370e8505757"
      },
      "execution_count": 20,
      "outputs": [
        {
          "output_type": "stream",
          "name": "stdout",
          "text": [
            "Ingrese un Numero: 10\n",
            "el numero 10 no es multiplo de 3\n"
          ]
        }
      ]
    },
    {
      "cell_type": "markdown",
      "source": [
        "En la práctica, existe un código estándar, el código ASCII (código estándar amer icano para intercambio de información), que relaciona cada letra, número o símbolo con una cifra del 0 al 255 (con una secuencia de 8 bits):\n",
        "\n",
        "La \"a\" es el número 97\n",
        "\n",
        "La \"b\" es el número 98\n",
        "\n",
        "La \"A\" es el número 65,\n",
        "\n",
        "La \"B\" es el número  67.\n",
        "\n",
        "El  \"0\" es el número 48\n",
        "\n",
        "El  \"1\" es el número 49, etc.\n",
        "\n",
        "Así se tiene una forma muy cómoda de almacenar la información en ordenadores, ya que cada letra ocupará exactamente un byte (8 bits: 8 posiciones elementales de memoria).\n",
        "\n"
      ],
      "metadata": {
        "id": "f0IPutAK4kZN"
      }
    },
    {
      "cell_type": "code",
      "source": [
        "char_cadena=\"\"\n",
        "cadena=input(\"Ingrese un caracter: \")\n",
        "if cadena=='a':\n",
        "  print(\"es el numero 97\")\n",
        "elif cadena=='b':\n",
        "  print(\"es el numero 98\")\n",
        "elif cadena=='A':\n",
        "  print(\"es el numero 65\")\n",
        "elif cadena=='B':\n",
        "  print(\"es el numero 67\")\n",
        "elif cadena=='0':\n",
        "  print(\"es el numero 48\")\n",
        "elif cadena=='1':\n",
        "  print(\"es el numero 49\")\n",
        "else:\n",
        "  print(\"es otro numero\")"
      ],
      "metadata": {
        "colab": {
          "base_uri": "https://localhost:8080/"
        },
        "id": "wFrIUvFJ4yj-",
        "outputId": "8a6b008a-57bb-4b9e-911d-c27b7b550236"
      },
      "execution_count": 23,
      "outputs": [
        {
          "output_type": "stream",
          "name": "stdout",
          "text": [
            "Ingrese un caracter: 0\n",
            "es el numero 48\n"
          ]
        }
      ]
    },
    {
      "cell_type": "markdown",
      "source": [
        "► Enunciado:\n",
        "\n",
        "Escribir un programa que solicite al usuario una letra y diga si esta es MAYÚSCULA o minúscula."
      ],
      "metadata": {
        "id": "FitgOVxZ7leT"
      }
    },
    {
      "cell_type": "code",
      "source": [
        "# Declaracion de variables\n",
        "letra = ''\n",
        "\n",
        "# Solicitud de Datos\n",
        "letra = input('>>> Introduce una letra: ')\n",
        "\n",
        "if letra <= 'z'  and letra >= 'a':  # a-z (97-122)\n",
        "    print('La letra es minuscula.')\n",
        "\n",
        "elif letra <= 'Z' and letra >= 'A':  # A-Z (65-90)\n",
        "    print('La letra es Mayuscula.')\n",
        "else:\n",
        "    print('El valor introducido no es una letra.')"
      ],
      "metadata": {
        "id": "nJqVpTio7Qbz",
        "outputId": "00161705-85b4-4518-ae06-426d357edaf8",
        "colab": {
          "base_uri": "https://localhost:8080/"
        }
      },
      "execution_count": 26,
      "outputs": [
        {
          "output_type": "stream",
          "name": "stdout",
          "text": [
            ">>> Introduce una letra: 0\n",
            "El valor introducido no es una letra.\n"
          ]
        }
      ]
    },
    {
      "cell_type": "markdown",
      "source": [
        "Escribir un programa que solicite al usuario 3 números, compararlos y decir cual es mayor."
      ],
      "metadata": {
        "id": "wEEXywVM7qJz"
      }
    },
    {
      "cell_type": "code",
      "source": [
        "int_num1=0\n",
        "int_num2=0\n",
        "int_num3=0\n",
        "int_num1=int(input(\"Ingrese el primer numero: \"))\n",
        "int_num2=int(input(\"Ingrese el segundo numero:\"))\n",
        "int_num3=int(input(\"Ingrese el tercer numero: \"))\n",
        "if int_num1>int_num2:\n",
        "  if int_num1>int_num3:\n",
        "    maximo=int_num1\n",
        "  else:\n",
        "    maximo=int_num3\n",
        "else:\n",
        "  if int_num2>int_num3:\n",
        "    maximo=int_num2\n",
        "  else:\n",
        "    maximo=int_num3\n",
        "\n",
        "print(\"El numero maximo es: %d \"%maximo)"
      ],
      "metadata": {
        "id": "2zPeWv0E7ulI",
        "outputId": "f36a58c8-8035-4497-8256-0f6ffd6957e9",
        "colab": {
          "base_uri": "https://localhost:8080/"
        }
      },
      "execution_count": 36,
      "outputs": [
        {
          "output_type": "stream",
          "name": "stdout",
          "text": [
            "Ingrese el primer numero: 4\n",
            "Ingrese el segundo numero:5\n",
            "Ingrese el tercer numero: 9\n",
            "El numero maximo es: 9 \n"
          ]
        }
      ]
    },
    {
      "cell_type": "markdown",
      "source": [
        "Escribir un programa que solicite al usuario 5 números, compararlos y decir cual es mayor."
      ],
      "metadata": {
        "id": "nr_BFsed-80S"
      }
    },
    {
      "cell_type": "code",
      "source": [
        "int_num1=0\n",
        "int_num2=0\n",
        "int_num3=0\n",
        "int_num4=0\n",
        "int_num5=0\n",
        "int_num1=int(input(\"Ingrese el primer numero: \"))\n",
        "int_num2=int(input(\"Ingrese el segundo numero:\"))\n",
        "int_num3=int(input(\"Ingrese el tercer numero: \"))\n",
        "int_num4=int(input(\"Ingrese el cuarto numero: \"))\n",
        "int_num5=int(input(\"Ingrese el quinto numero:\"))\n",
        "posible_maximo=int_num1\n",
        "if int_num2>posible_maximo:\n",
        "  posible_maximo=int_num2\n",
        "if int_num3>posible_maximo:\n",
        "  posible_maximo=int_num3\n",
        "if int_num4>posible_maximo:\n",
        "  posible_maximo=int_num4\n",
        "if int_num5>posible_maximo:\n",
        "  posible_maximo=int_num5\n",
        "maximo=posible_maximo\n",
        "print(\"el numero maximo es %d\"%(maximo))"
      ],
      "metadata": {
        "id": "H08VJXGI8CcU",
        "outputId": "db81b91d-3f2c-435e-8768-358fb5e1f145",
        "colab": {
          "base_uri": "https://localhost:8080/"
        }
      },
      "execution_count": 41,
      "outputs": [
        {
          "output_type": "stream",
          "name": "stdout",
          "text": [
            "Ingrese el primer numero: 1\n",
            "Ingrese el segundo numero:2\n",
            "Ingrese el tercer numero: 3\n",
            "Ingrese el cuarto numero: 4\n",
            "Ingrese el quinto numero:8\n",
            "el numero maximo es 8\n"
          ]
        }
      ]
    },
    {
      "cell_type": "markdown",
      "source": [
        "Escribir un programa en el cual Dados 5 números enteros solicitados al usuario, determinar cuál de los 4 números enteros es más cercano al primero."
      ],
      "metadata": {
        "id": "2dACoxYBAzIB"
      }
    },
    {
      "cell_type": "code",
      "source": [
        "int_num1=0\n",
        "int_num2=0\n",
        "int_num3=0\n",
        "int_num4=0\n",
        "int_num5=0\n",
        "int_num1=int(input(\"Ingrese el primer numero: \"))\n",
        "int_num2=int(input(\"Ingrese el segundo numero:\"))\n",
        "int_num3=int(input(\"Ingrese el tercer numero: \"))\n",
        "int_num4=int(input(\"Ingrese el cuarto numero: \"))\n",
        "int_num5=int(input(\"Ingrese el quinto numero:\"))\n",
        "Resta1=0\n",
        "Resta2=0\n",
        "Resta3=0\n",
        "Resta4=0\n",
        "# Se realizan las restas para hallar la menor diferencia\n",
        "Resta1 = int_num1 - int_num2\n",
        "Resta2 = int_num1 - int_num3\n",
        "Resta3 = int_num1 - int_num4\n",
        "Resta4 = int_num1 - int_num5\n",
        "menor_diferencia=Resta1\n",
        "if Resta2<menor_diferencia and Resta2>=0:\n",
        "  menor_diferencia=Resta2\n",
        "else:\n",
        "  if Resta2>menor_diferencia and Resta2<=0:\n",
        "    menor_diferencia=Resta2\n",
        "\n",
        "if Resta3<menor_diferencia and Resta3>=0:\n",
        "  menor_diferencia=Resta3\n",
        "else:\n",
        "  if Resta3>menor_diferencia and Resta3<=0:\n",
        "    menor_diferencia=Resta3\n",
        "\n",
        "if Resta4<menor_diferencia and Resta4>=0:\n",
        "  menor_diferencia=Resta4\n",
        "else:\n",
        "  if Resta4>menor_diferencia and Resta4<=0:\n",
        "    menor_diferencia=Resta4\n",
        "\n",
        "numero_cercano=int_num1-menor_diferencia\n",
        "print(\"El numero mas cercano a %d es %d\"%(int_num1,numero_cercano))"
      ],
      "metadata": {
        "id": "1XK4JkjTA1_T",
        "outputId": "bd4ef80b-f5a4-4eb7-bb0b-402ca18cb523",
        "colab": {
          "base_uri": "https://localhost:8080/"
        }
      },
      "execution_count": 45,
      "outputs": [
        {
          "output_type": "stream",
          "name": "stdout",
          "text": [
            "Ingrese el primer numero: 0\n",
            "Ingrese el segundo numero:1\n",
            "Ingrese el tercer numero: 2\n",
            "Ingrese el cuarto numero: 3\n",
            "Ingrese el quinto numero:4\n",
            "El numero mas cercano a 0 es 1\n"
          ]
        }
      ]
    },
    {
      "cell_type": "markdown",
      "source": [
        "Crear un Algoritmo que permita hallar la solución a una ecuación de primer grado, de la forma: ax + b = 0\n",
        "\n",
        "El objetivo es despejar la x y validar los posibles datos para arrojar la respuesta.\n",
        "\n",
        "Al despejar la x tendremos que:\n",
        "\n",
        "x = -b/a\n",
        "\n",
        "Por lo tanto tendremos los siguientes escenarios:\n",
        "\n",
        "1) Si a es DIFERENTE de 0 (a != 0) la ecuación tiene solución.\n",
        "\n",
        "2) Si a es IGUAL a 0 (a == 0) tendremos que:\n",
        "\n",
        "Si b es DIFERENTE de 0 (b != 0) la ecuación no tiene solución.\n",
        "\n",
        "Si b es IGUAL a 0 (b == 0) la ecuación tiene Infinitas Soluciones.\n",
        "\n",
        "___\n",
        "\n",
        "► Variables:\n",
        "\n",
        "a: Coeficiente principal.\n",
        "\n",
        "b: Término Independiente.\n",
        "\n",
        "x: Incógnita.\n",
        "\n",
        "___\n",
        "\n",
        "► Datos de Prueba.\n",
        "\n",
        "a) a = 2 y b = 6.\n",
        "\n",
        "b) a = 0 y b = 3.\n",
        "\n",
        "c) a = 0 y b = 0.\n",
        "\n",
        "___\n",
        "\n",
        "► Salida:\n",
        "\n",
        "----------------------------------------\n",
        "  ECUACION DE PRIMER GRADO: ax + b = 0  \n",
        "----------------------------------------\n",
        ">>> Valor de a: 2\n",
        ">>> Valor de b: 6\n",
        "----------------------------------------\n",
        "ECUACION: 2.0 x + 6.0 = 0\n",
        "----------------------------------------\n",
        ">>> SOLUCION: x =  -3.0\n",
        "----------------------------------------"
      ],
      "metadata": {
        "id": "mx4X-pYxFYjM"
      }
    },
    {
      "cell_type": "code",
      "source": [
        "a=0\n",
        "b=0\n",
        "print(\"ECUACION DE PRIMER GRADO: ax+b=0\")\n",
        "a=int(input(\"El valor de a: \"))\n",
        "b=int(input(\"El valor de b: \"))\n",
        "formato_ecuacion=\"Ecuacion: {}x+{}=0\"\n",
        "print(formato_ecuacion.format(a,b))\n",
        "if a!=0:\n",
        "  x=-b/a\n",
        "  print(\"Solucion: x= \",x)\n",
        "else:\n",
        "  if a==0:\n",
        "    if b!=0:\n",
        "      print(\"no tiene solucion\")\n",
        "    else:\n",
        "      print(\"la ecuacion tiene infinitas soluciones\")\n",
        ""
      ],
      "metadata": {
        "id": "oONmwCNvFdfb",
        "outputId": "8a778f2e-315b-448c-937a-005fa530cb1d",
        "colab": {
          "base_uri": "https://localhost:8080/"
        }
      },
      "execution_count": 50,
      "outputs": [
        {
          "output_type": "stream",
          "name": "stdout",
          "text": [
            "ECUACION DE PRIMER GRADO: ax+b=0\n",
            "El valor de a: 2\n",
            "El valor de b: 6\n",
            "Ecuacion: 2x+6=0\n",
            "Solucion: x=  -3.0\n"
          ]
        }
      ]
    },
    {
      "cell_type": "markdown",
      "source": [
        "# Ejercicio 20: Ecuación de Segundo Grado\n",
        "\n",
        "\n",
        "---\n",
        "\n",
        "\n",
        "Crear un Algoritmo que permita hallar la solución a una ecuación de segundo grado, de la forma:\n",
        "ax^2+bx+c=0\n",
        "\n",
        "Los datos del problema son los coeficientes a, b y c. Se desea calcular los valores de x que hacen cierta la ecuación.\n",
        "\n",
        "![f1.PNG](data:image/png;base64,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)\n",
        "---\n",
        "\n",
        "\n",
        "► Consideraciones:\n",
        "\n",
        "- En este programa se debe considerar la división por cero que tiene lugar cuando a vale 0 haciendo entonces al denominador, 2a, nulo. Cuando a vale 0 la ecuación no es de segundo grado, sino de primer grado.\n",
        "\n",
        "- Otra consideración que debemos tomar en cuenta es que el discriminante (b2- 4ac) no debe ser negativo, de ser negativo la ecuación no tiene soluciones reales.\n",
        "\n",
        "Se deben tomar en cuenta los siguientes escenarios:\n",
        "\n",
        "1) Si a es DIFERENTE de 0 (a != 0) la ecuación tiene solución.\n",
        "\n",
        "* Si b es DIFERENTE de 0 (b! = 0) la ecuación no tiene solución.\n",
        "* Se b es IGUAL a 0 (b == 0) se produce la división por cero, y la ecuación tiene infinitas soluciones.\n",
        "\n",
        "\n",
        "\n",
        "---\n",
        "\n",
        "\n",
        "► Variables\n",
        "\n",
        "* a: Coeficiente principal.\n",
        "* b: Coeficiente secundario.\n",
        "* c: Término Independiente.\n",
        "* x1: Incógnita 1.\n",
        "* x2: Incógnita 2.\n",
        "\n",
        "discriminante: Discriminante de la ecuación.\n",
        "\n",
        "\n",
        "---\n",
        "\n",
        "\n",
        "► Datos de Prueba.\n",
        "\n",
        "a) a = 2 , b = 7, c = 2\n",
        "\n",
        "b) a = 1 , b = 2, c = 3\n",
        "\n",
        "c) a = 0 , b = 2, c = 3\n",
        "\n",
        "d) a = 0 , b = 0, c = 3\n",
        "\n",
        "\n",
        "---\n",
        "\n",
        "\n",
        "► Salida:\n",
        "```\n",
        "-------------------------------------------------------\n",
        "      ECUACION DE SEGUNDO GRADO: ax^2 + bx + c = 0      \n",
        "-------------------------------------------------------\n",
        ">>> Valor de a: 2\n",
        ">>> Valor de b: 7\n",
        ">>> Valor de c: 2\n",
        "-------------------------------------------------------\n",
        ">>> SOLUCIONES: x1 = -0.31 y x2 = -3.19\n",
        "-------------------------------------------------------\n",
        "```\n",
        "\n",
        "\n",
        "---\n"
      ],
      "metadata": {
        "id": "TYKIaNriIzep"
      }
    },
    {
      "cell_type": "code",
      "source": [
        "#importar libreria\n",
        "from math import sqrt\n",
        "a,b,c=0,0,0\n",
        "x1,x2=0.0,0.0\n",
        "discriminante=0\n",
        "print(\"ecuacion : ax^2+bx+c=0\")\n",
        "a=int(input(\"Valor de a: \"))\n",
        "b=int(input(\"Valor de b: \"))\n",
        "c=int(input(\"Valor de c: \"))\n",
        "if a!=0:\n",
        "  discriminante=b**2-4*a*c\n",
        "try:\n",
        "  x1=(-b+sqrt(discriminante))/(2*a)\n",
        "  x2=(-b-sqrt(discriminante))/(2*a)\n",
        "  if x1==x2:\n",
        "    print(\"Solucion: x=%4.2f\"%x1)\n",
        "  else:\n",
        "    print(\"Soluciones: x1=%4.2f y x2=%4.2f\"%(x1,x2))\n",
        "except ZeroDivisionError:\n",
        "  if b!=0:\n",
        "    print(\"la ecuacion no tiene solucion\")\n",
        "  else:\n",
        "    print(\"tiene infinitas soluciones\")\n",
        "except ValueError:\n",
        "    # Casos:\n",
        "    # 1) Se produce una division por cero.\n",
        "    # 2) Se produce por calcular la raız cuadrada de un discriminante\n",
        "    # negativo.\n",
        "    print(\"No hay soluciones reales\")"
      ],
      "metadata": {
        "id": "t2rb2ubPI4bg",
        "outputId": "5e70fd68-ea3d-49bb-f6cf-1f60b19d2d2e",
        "colab": {
          "base_uri": "https://localhost:8080/"
        }
      },
      "execution_count": 56,
      "outputs": [
        {
          "output_type": "stream",
          "name": "stdout",
          "text": [
            "ecuacion : ax^2+bx+c=0\n",
            "Valor de a: 0\n",
            "Valor de b: 0\n",
            "Valor de c: 3\n",
            "tiene infinitas soluciones\n"
          ]
        }
      ]
    }
  ]
}