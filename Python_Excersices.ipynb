{
  "nbformat": 4,
  "nbformat_minor": 0,
  "metadata": {
    "colab": {
      "provenance": [],
      "authorship_tag": "ABX9TyNlOyLhUsHE7ITPBT0mMun3",
      "include_colab_link": true
    },
    "kernelspec": {
      "name": "python3",
      "display_name": "Python 3"
    },
    "language_info": {
      "name": "python"
    }
  },
  "cells": [
    {
      "cell_type": "markdown",
      "metadata": {
        "id": "view-in-github",
        "colab_type": "text"
      },
      "source": [
        "<a href=\"https://colab.research.google.com/github/graceponce/python-examples-and-collab/blob/main/Python_Excersices.ipynb\" target=\"_parent\"><img src=\"https://colab.research.google.com/assets/colab-badge.svg\" alt=\"Open In Colab\"/></a>"
      ]
    },
    {
      "cell_type": "markdown",
      "source": [
        "# **Python Excersices**"
      ],
      "metadata": {
        "id": "ZZEW5Rwvl-Kg"
      }
    },
    {
      "cell_type": "markdown",
      "source": [
        "Escribir un programa que muestre por pantalla el siguiente mensaje:\n",
        "\n",
        "La felicidad se puede encontrar hasta en los más oscuros\n",
        "momentos, si somos capaces de usar bien la luz.\n",
        "— Albus Dumbledore"
      ],
      "metadata": {
        "id": "rf0hdOEjlwh6"
      }
    },
    {
      "cell_type": "code",
      "execution_count": 3,
      "metadata": {
        "colab": {
          "base_uri": "https://localhost:8080/"
        },
        "id": "Jpo86T6Tltxi",
        "outputId": "da0c1350-43e3-4fc3-a9d9-4460e7a9117f"
      },
      "outputs": [
        {
          "output_type": "stream",
          "name": "stdout",
          "text": [
            "La felicidad se puede encontrar hasta en los más oscuros momentos,\n",
            " si somos capaces de usar bien la luz.\n",
            "  — Albus Dumbledore\n"
          ]
        }
      ],
      "source": [
        "print('''La felicidad se puede encontrar hasta en los más oscuros momentos,\n",
        " si somos capaces de usar bien la luz.\n",
        "  — Albus Dumbledore''')"
      ]
    },
    {
      "cell_type": "markdown",
      "source": [
        "Escribir un programa que almacene la cadena ¡Hola Mundo! en una variable y luego muestre por pantalla el contenido de la variable.\n"
      ],
      "metadata": {
        "id": "7VkjxHJ9mLLP"
      }
    },
    {
      "cell_type": "code",
      "source": [
        "Cadena=\"¡Hola Mundo!\"\n",
        "print(Cadena)"
      ],
      "metadata": {
        "colab": {
          "base_uri": "https://localhost:8080/"
        },
        "id": "rP4-3scMnAFM",
        "outputId": "cd856cb6-1030-40f5-80c0-5fe3c2ffc61e"
      },
      "execution_count": 4,
      "outputs": [
        {
          "output_type": "stream",
          "name": "stdout",
          "text": [
            "¡Hola Mundo!\n"
          ]
        }
      ]
    },
    {
      "cell_type": "markdown",
      "source": [
        "Escribir un programa que pregunte el nombre y apellido del usuario. Luego de ser introducidos los datos muestre por pantalla la cadena ¡Hola {nombre} {apellido}, gusto en conocerte!, donde:\n",
        "\n",
        "{nombre} y {apellido} son los valores introducidos."
      ],
      "metadata": {
        "id": "NE79aUvVnWyZ"
      }
    },
    {
      "cell_type": "code",
      "source": [
        "Nombre=\"\"\n",
        "Apellido=\"\"\n",
        "print(\" Cual es su Nombre \")\n",
        "Nombre=input(\" \")\n",
        "print(\"Cual es su Apellido \\n\")\n",
        "Apellido=input(\" \")\n",
        "print(f\"¡Hola {Nombre} {Apellido},gusto en conocerte!\")\n"
      ],
      "metadata": {
        "colab": {
          "base_uri": "https://localhost:8080/"
        },
        "id": "Qyglyfp3nYhk",
        "outputId": "5bd9d920-78b0-40f0-aca3-bcce36e66f97"
      },
      "execution_count": 15,
      "outputs": [
        {
          "output_type": "stream",
          "name": "stdout",
          "text": [
            " Cual es su Nombre \n",
            " ALLAN\n",
            "Cual es su Apellido \n",
            "\n",
            " cORTEZ\n",
            "¡Hola ALLAN cORTEZ,gusto en conocerte!\n"
          ]
        }
      ]
    },
    {
      "cell_type": "markdown",
      "source": [
        "Escribir un programa que lea un entero positivo, introducido por el usuario y después muestre en pantalla la suma puede ser calculada de la siguiente forma:\n",
        "\n",
        "![suma.PNG](data:image/png;base64,iVBORw0KGgoAAAANSUhEUgAAAREAAABuCAYAAAAAlycuAAAAAXNSR0IArs4c6QAAAARnQU1BAACxjwv8YQUAAAAJcEhZcwAAFiUAABYlAUlSJPAAAAPySURBVHhe7dgBbuM2FEXR7in7X1sGwpSAxiBpyU9OvsVzAKGtyNDyVP9ikP++AQIiAkREBIiICBARESAiIkBERICIiAAREQEiIgJERASIiAgQEREgIiJARESAiIhwma+vr///bS2rfu9GRLjE6oO08vcXEWJ3H6Cj32/VkIgIsTsPz/bdRGRORIhUGpyrnqWFY38ddWbvXYgIkUpD845nEZHnRISIiPxLROCEagMjIr9DRBbXe+nb4DwbiKMDk3zGGVee1bzyjO94jspEZGHtZd+/9I8DMBuII8OSfsYZV52zt5159tx3PEdlIrKo/YveBqX38o/ub0b3m/16O6f3M6P7Z11xxqNXnu0dz1GZiCxq/6LPXvpX1zZXfMYZV52zt5159tx3PEdlIrK4Z0Py6tpe8hl77ZzkOuuVn3vlcz6ZiCxuNiTPhuHosCSfccaVZzWzZx95x3NUJiKLmw3Js2E4OizJZ5xx5VnN7NlH3vEclYnI4kYv/OP93r6jw5J8xhnpz/dsZ5499x3PUZmILG70wu/vH9kzk3zGGVec8Wg78+y573iOykRkYbMBafdnA3FkWNLPOOOqc/Zmzz/yjueoTEQW9uxlPzIM6RlXDtxVZ23nzK6ZZ+t3JCJEKg1NhWcREThJRP4lIvCCFQenZ9U/BxEhJiJ/iQgEVg/Jyt9fRLjMqoO0ekBLRGT7n7C/2r2mt968sta718zWHp3ZC3f16xHpDeBoMGcDe2Stt6f992ytp7d3th/uqmRENr37s0F911rP6GdG+0faOckFv61ERI4Ow2zvT6/1nN0Pd1DydyKjQay01rQ9+6uq3rO6fu66qxIR2Rz5Qx/d31RYm+2HuyoTkb3RMM6G9CfXXjkL7qrsL1Y3j2uzIf3JtSP7R3v22v7kgt/2URHZjPbPhurKtaP7R3vgbkpEZD98zWgIe/v2V8/Va4/39vse/wl3V+pvIm0Ynw1gb9/+Xrv/eK9dyVozur/p3YO7KvmLVWj2sRbnmkSEsnrREJN6RISSZqEQklpEhLJGoRCRWkSEkloohKQ+EaGsWSQEpA4R4eP4W0gtIsLHEZFaRISPIiD1iAgfRUDqERE+hoDUJCJ8BAGpS0QobxQQYalBRChtFgoRqUFEKOtZJESkBhGhrC0Ss4saRISSetF4vKhBRICIiAAREQEiIgJERASIiAgQEREgIiJARESAiIgAEREBIiICREQEiIgIEBERICIiQEREgIiIABERASIiAkREBIiICBARESAiIkBERICIiAAREQEiIgJERASIiAgQEREgIiJARESAiIgAEREBIiICREQEiIgIEBERICIiQEREgIiIAIHv7z/E+vHEueCzvgAAAABJRU5ErkJggg==)\n"
      ],
      "metadata": {
        "id": "P-fZ3IjTqsWT"
      }
    },
    {
      "cell_type": "code",
      "source": [
        "num_Positivo=0\n",
        "suma=0.0\n",
        "print(\"Ingrese un numero: \\n\")\n",
        "num_Positivo=int(input(\"\"))\n",
        "suma=num_Positivo*(num_Positivo+1)/2\n",
        "print(\"La suma es :\"+str(suma))"
      ],
      "metadata": {
        "colab": {
          "base_uri": "https://localhost:8080/"
        },
        "id": "XFcchGA5q35_",
        "outputId": "95c9508c-7329-4b48-9c19-266efc25fe31"
      },
      "execution_count": 20,
      "outputs": [
        {
          "output_type": "stream",
          "name": "stdout",
          "text": [
            "Ingrese un numero: \n",
            "\n",
            "9\n",
            "La suma es :45.0\n"
          ]
        }
      ]
    },
    {
      "cell_type": "markdown",
      "source": [
        "Programa que solicite al usuario los datos para calcular el área de un Cuadrado (■), finalmente mostrar el resultado en pantalla.\n",
        "Area=Lado**2"
      ],
      "metadata": {
        "id": "V_1cUSIfun-o"
      }
    },
    {
      "cell_type": "code",
      "source": [
        "int_Lado=0\n",
        "Area=0\n",
        "print(\"Ingrese el tamano del lado del cuadrado :\\n\")\n",
        "int_Lado=int(input(\"\"))\n",
        "Area=int_Lado**2\n",
        "print(\"El area del cuadrado es: %d\"%(Area))"
      ],
      "metadata": {
        "colab": {
          "base_uri": "https://localhost:8080/"
        },
        "id": "_8StHBiAuv1K",
        "outputId": "ee1a3698-b614-4c10-f849-86a26ab7bbe3"
      },
      "execution_count": 22,
      "outputs": [
        {
          "output_type": "stream",
          "name": "stdout",
          "text": [
            "Ingrese el tamano del lado del cuadrado :\n",
            "\n",
            "10\n",
            "El area del cuadrado es: 100\n"
          ]
        }
      ]
    },
    {
      "cell_type": "markdown",
      "source": [
        "Programa que solicite al usuario los datos para calcular el área de un Triángulo en forma decimal con dos ceros (▲), finalmente mostrar el resultado en pantalla.\n",
        "Area=(Base*Altura)/2"
      ],
      "metadata": {
        "id": "CXMriMfGv8pf"
      }
    },
    {
      "cell_type": "code",
      "source": [
        "int_Base=0\n",
        "int_Altura=0\n",
        "float_Area=0.0\n",
        "print(\"Ingrese la altura del triangulo: \\n\")\n",
        "int_Altura=int(input(\"\"))\n",
        "print(\"Ingrese la base del triangulo: \\n\")\n",
        "int_Base=int(input(\"\"))\n",
        "float_Area=(int_Base*int_Altura)/2\n",
        "print(\"El area del triangulo es: %0.2f\"%(float_Area))"
      ],
      "metadata": {
        "colab": {
          "base_uri": "https://localhost:8080/"
        },
        "id": "G20KZWAXwDsO",
        "outputId": "4d731355-7b25-4039-8c6b-408b046ed1e0"
      },
      "execution_count": 24,
      "outputs": [
        {
          "output_type": "stream",
          "name": "stdout",
          "text": [
            "Ingrese la altura del triangulo: \n",
            "\n",
            "30\n",
            "Ingrese la base del triangulo: \n",
            "\n",
            "3\n",
            "El area del triangulo es: 45.00\n"
          ]
        }
      ]
    },
    {
      "cell_type": "markdown",
      "source": [
        "Programa que solicite al usuario los datos para calcular el área de un Círculo (●), finalmente mostrar el resultado en pantalla.\n",
        "Area=PI*(Radio**2)"
      ],
      "metadata": {
        "id": "myO-R9rKxst2"
      }
    },
    {
      "cell_type": "code",
      "source": [
        "float_Area=0.0\n",
        "int_Radio=0\n",
        "pi=3.1416\n",
        "print(\"CALCULAR EL AREA DE UN CIRCULO\")\n",
        "int_Radio=int(input(\"Ingrese el radio del circulo: \\n\"))\n",
        "float_Area=pi*(int_Radio**2)\n",
        "print(\"El area del circulo es: %0.2f\"%(float_Area))"
      ],
      "metadata": {
        "colab": {
          "base_uri": "https://localhost:8080/"
        },
        "id": "B06fIY63x2KH",
        "outputId": "b71a4d45-9afe-45e4-85cc-6c2d5f71a341"
      },
      "execution_count": 27,
      "outputs": [
        {
          "output_type": "stream",
          "name": "stdout",
          "text": [
            "CALCULAR EL AREA DE UN CIRCULO\n",
            "Ingrese el radio del circulo: \n",
            "3\n",
            "El area del circulo es: 28.27\n"
          ]
        }
      ]
    },
    {
      "cell_type": "markdown",
      "source": [
        "Programa que solicite al usuario los datos para llevar Grados Farenheit a Grados Celcius.\n",
        "celcius=(fahrenheit-32.0)*5.0/9.0\n"
      ],
      "metadata": {
        "id": "aBTsseEOzqff"
      }
    },
    {
      "cell_type": "code",
      "source": [
        "int_farenheit=0\n",
        "float_celcius=0.0\n",
        "print(\"--Transformar de grados FARENHEIT a grados Celsius--\")\n",
        "int_farenheit=int(input(\"Ingrese los grados farenheit: \\n\"))\n",
        "float_celcius=(int_farenheit-32.0)*5.0/9.0\n",
        "print(\"Los grados en celsius son: %0.2f\"%(float_celcius))"
      ],
      "metadata": {
        "colab": {
          "base_uri": "https://localhost:8080/"
        },
        "id": "t_T4m2V4zzRY",
        "outputId": "32c5f833-090d-46c7-9814-89d9b479b82e"
      },
      "execution_count": 29,
      "outputs": [
        {
          "output_type": "stream",
          "name": "stdout",
          "text": [
            "--Transformar de grados FARENHEIT a grados Celsius--\n",
            "Ingrese los grados farenheit: \n",
            "70\n",
            "Los grados en celsius son: 21.11\n"
          ]
        }
      ]
    },
    {
      "cell_type": "markdown",
      "source": [
        "Un radar común de detección de velocidad de la policía de caminos emite un rayo de microondas a una frecuencia `f0`. El rayo es reflejado por un automóvil que se aproxima y el rayo reflejado es captado y analizado por la unidad de radar. La frecuencia del rayo reflejado es cambiada ligeramente de `f0` a `f1` debido al movimiento del automóvil.\n",
        "\n",
        "La relación entre la velocidad del automóvil, v, en millas por hora, y las dos frecuencias de microondas es:\n",
        "\n",
        "`velocidad = 6.685x10^8 x (f1 - f0) / (f1 + f0)`\n",
        "\n",
        "Donde las ondas emitidas tienen una frecuencia de:\n",
        "\n",
        "` f0 = 2 x10^10 sec ^–1`\n",
        "\n",
        "Usando la fórmula dada, escriba un programa para calcular y desplegar la velocidad correspondiente a una frecuencia recibida de `2.0000004 x 10^10 sec–1`.\n",
        "\n",
        "\n",
        "---\n",
        "\n",
        "\n",
        "► Variables:\n",
        "\n",
        "· Velocidad : Velocidad del Vehículo.\n",
        "\n",
        "· Frecuencia0: Frecuencia inicial.\n",
        "\n",
        "· Frecuencia1: Frecuencia Final.\n",
        "\n",
        "\n",
        "\n",
        "---\n",
        "\n",
        "\n",
        "\n",
        "► Salida:\n",
        "```\n",
        "----------------------------------------\n",
        "           RADAR DE VELOCIDAD           \n",
        "----------------------------------------\n",
        " La Velocidad es: 66.85 millas/hora.\n",
        "----------------------------------------\n",
        "\n",
        "```\n",
        "\n",
        "\n",
        "---\n"
      ],
      "metadata": {
        "id": "Ha1AycNI1RXv"
      }
    },
    {
      "cell_type": "code",
      "source": [
        "float_velocidad=0.0\n",
        "f0=2e-10\n",
        "f1=2.0000004e-10\n",
        "print(\"---------------------\")\n",
        "print(\" RADAR DE VELOCIDAD \")\n",
        "print(\"---------------------\")\n",
        "float_velocidad=6.685e8*(f1-f0)/(f1+f0)\n",
        "print(\"La velocidad es: %0.2f\"%(float_velocidad)+\" millas/hora\")"
      ],
      "metadata": {
        "colab": {
          "base_uri": "https://localhost:8080/"
        },
        "id": "Ay0TR40I1nEi",
        "outputId": "15cfec75-6493-4abf-da62-08339b4210cd"
      },
      "execution_count": 35,
      "outputs": [
        {
          "output_type": "stream",
          "name": "stdout",
          "text": [
            "---------------------\n",
            " RADAR DE VELOCIDAD \n",
            "---------------------\n",
            "La velocidad es: 66.85 millas/hora\n"
          ]
        }
      ]
    },
    {
      "cell_type": "markdown",
      "source": [
        "Al ejercicio anterior modificar el los guiones y hacerlo en codigo"
      ],
      "metadata": {
        "id": "WnH8CgZR35Jb"
      }
    },
    {
      "cell_type": "code",
      "source": [
        "#se pone el ancho que se desea\n",
        "ancho=60\n",
        "#que relleno se desea\n",
        "relleno1=\"-\"\n",
        "#los espacios del texto\n",
        "cadena_vacia=\"\"\n",
        "mensaje=\"Radar de Velocidad\"\n",
        "\n",
        "print(cadena_vacia.center(ancho,relleno1))\n",
        "print(mensaje.center(ancho))\n",
        "print(cadena_vacia.center(ancho,relleno1))\n"
      ],
      "metadata": {
        "colab": {
          "base_uri": "https://localhost:8080/"
        },
        "id": "YNjhWK5n4DOh",
        "outputId": "2219b267-9268-4332-873e-dfcc7f495f21"
      },
      "execution_count": 51,
      "outputs": [
        {
          "output_type": "stream",
          "name": "stdout",
          "text": [
            "------------------------------------------------------------\n",
            "                     Radar de Velocidad                     \n",
            "------------------------------------------------------------\n"
          ]
        }
      ]
    },
    {
      "cell_type": "markdown",
      "source": [],
      "metadata": {
        "id": "fLu3ymym6HpW"
      }
    },
    {
      "cell_type": "markdown",
      "source": [
        "# Ejercicio 10: Calculadora Freelancer\n",
        "\n",
        "\n",
        "---\n",
        "\n",
        "\n",
        "\n",
        "Un Freelancer desea saber cuánto puede cobrar por su trabajo semanal y mensualmente, para ello solo necesita establecer el precio de su trabajo por hora.\n",
        "\n",
        "Se estiman 40 horas de trabajo a la semana.\n",
        "\n",
        "\n",
        "---\n",
        "\n",
        "\n",
        "Las Fórmulas para calcular el pago Semanal y Mensual son:\n",
        "\n",
        "```\n",
        "Pago_Semanal = (DolaresPorHora x 40)\n",
        "Pago_Mensual = (DolaresPorHora x 160)\n",
        "```\n",
        "\n",
        "---\n",
        "\n",
        "\n",
        "► Variables:\n",
        "\n",
        "`Dolares_Por_Hora`: Cantidad de Dólares que gana el Freelancer por hora.\n",
        "\n",
        "`Pago_Semanal`: Almacena el resultado del pago semanal.\n",
        "\n",
        "`Pago_Mensual`: Almacena el resultado del pago mensual.\n",
        "\n",
        "\n",
        "---\n",
        "\n",
        "\n",
        "► Salida:\n",
        "```\n",
        "----------------------------------------\n",
        "      CALCULADORA FREELANCER (USD)\n",
        "----------------------------------------\n",
        " Precio en dolares por Hora: 20\n",
        "----------------------------------------\n",
        " PAGO SEMANAL: 800.00\n",
        " PAGO MENSUAL: 3200.00\n",
        "----------------------------------------\n",
        "```\n",
        "\n",
        "\n",
        "---\n",
        "\n"
      ],
      "metadata": {
        "id": "YrSh5rzzkh4n"
      }
    },
    {
      "cell_type": "code",
      "source": [
        "Dolares_x_hora=0\n",
        "float_Pago_semanal=0.0\n",
        "float_Pago_mensual=0.0\n",
        "ancho=30\n",
        "relleno1=\"-\"\n",
        "cadena_vacia=\"\"\n",
        "mensaje=\"Calculadora Freelancer\"\n",
        "print(cadena_vacia.center(ancho,relleno1))\n",
        "print(mensaje.center(ancho))\n",
        "print(cadena_vacia.center(ancho,relleno1))\n",
        "Dolares_x_hora=int(input(\"Ingrese el precio en dolares por hora: \"))\n",
        "print(cadena_vacia.center(ancho,relleno1))\n",
        "float_Pago_semanal=Dolares_x_hora*40\n",
        "float_Pago_mensual=Dolares_x_hora*160\n",
        "print(\"Pago Semanal: %0.2f\"%(float_Pago_semanal))\n",
        "print(\"Pago Mensual: %0.2f\"%(float_Pago_mensual))\n",
        "print(cadena_vacia.center(ancho,relleno1))"
      ],
      "metadata": {
        "colab": {
          "base_uri": "https://localhost:8080/"
        },
        "id": "N3E11vJf6BCB",
        "outputId": "495a5a98-8f3f-4997-f5d5-718e588f42d6"
      },
      "execution_count": 56,
      "outputs": [
        {
          "output_type": "stream",
          "name": "stdout",
          "text": [
            "------------------------------\n",
            "    Calculadora Freelancer    \n",
            "------------------------------\n",
            "Ingrese el precio en dolares por hora: 20\n",
            "------------------------------\n",
            "Pago Semanal: 800.00\n",
            "Pago Mensual: 3200.00\n",
            "------------------------------\n"
          ]
        }
      ]
    },
    {
      "cell_type": "markdown",
      "source": [],
      "metadata": {
        "id": "m1nT-CtW8t0Z"
      }
    }
  ]
}