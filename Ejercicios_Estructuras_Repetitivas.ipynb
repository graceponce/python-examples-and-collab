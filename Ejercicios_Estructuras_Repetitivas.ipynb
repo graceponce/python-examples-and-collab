{
  "cells": [
    {
      "cell_type": "markdown",
      "metadata": {
        "id": "view-in-github",
        "colab_type": "text"
      },
      "source": [
        "<a href=\"https://colab.research.google.com/github/graceponce/python-examples-and-collab/blob/main/Ejercicios_Estructuras_Repetitivas.ipynb\" target=\"_parent\"><img src=\"https://colab.research.google.com/assets/colab-badge.svg\" alt=\"Open In Colab\"/></a>"
      ]
    },
    {
      "cell_type": "markdown",
      "source": [
        "Escribir un programa en el cual se solicite al usuario un número y se imprima la tabla de multiplicar del 1 al 10 del valor introducido."
      ],
      "metadata": {
        "id": "XDvoOXLs4ayo"
      }
    },
    {
      "cell_type": "code",
      "source": [
        "int_num=0\n",
        "contador=0\n",
        "int_num=int(input(\"Ingrese un numero\"))\n",
        "for contador in range(1,11):\n",
        "  print(f\"{int_num}X{contador}={int_num*contador}\")\n",
        ""
      ],
      "metadata": {
        "id": "d4t9uWIP4eyY",
        "outputId": "c8af8213-b046-4514-fc66-73dbd3375b08",
        "colab": {
          "base_uri": "https://localhost:8080/"
        }
      },
      "execution_count": 3,
      "outputs": [
        {
          "output_type": "stream",
          "name": "stdout",
          "text": [
            "Ingrese un numero5\n",
            "5X1=5\n",
            "5X2=10\n",
            "5X3=15\n",
            "5X4=20\n",
            "5X5=25\n",
            "5X6=30\n",
            "5X7=35\n",
            "5X8=40\n",
            "5X9=45\n",
            "5X10=50\n"
          ]
        }
      ]
    }
  ],
  "metadata": {
    "colab": {
      "name": "Welcome To Colab",
      "provenance": [],
      "include_colab_link": true
    },
    "kernelspec": {
      "display_name": "Python 3",
      "name": "python3"
    }
  },
  "nbformat": 4,
  "nbformat_minor": 0
}