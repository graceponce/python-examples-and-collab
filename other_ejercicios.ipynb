{
  "cells": [
    {
      "cell_type": "markdown",
      "metadata": {
        "id": "view-in-github",
        "colab_type": "text"
      },
      "source": [
        "<a href=\"https://colab.research.google.com/github/graceponce/python-examples-and-collab/blob/main/other_ejercicios.ipynb\" target=\"_parent\"><img src=\"https://colab.research.google.com/assets/colab-badge.svg\" alt=\"Open In Colab\"/></a>"
      ]
    },
    {
      "cell_type": "markdown",
      "source": [
        "Comprobar si la lista contiene el número entero 111."
      ],
      "metadata": {
        "id": "gGeLvpvWS91w"
      }
    },
    {
      "cell_type": "code",
      "source": [
        "lista=[3, 3, 4, 5, 2, 111, 5]\n",
        "print(111 in lista)"
      ],
      "metadata": {
        "id": "yEPcmuPRTCqp",
        "outputId": "8433c3f2-9195-43dd-b10d-c75d611142c2",
        "colab": {
          "base_uri": "https://localhost:8080/"
        }
      },
      "execution_count": 1,
      "outputs": [
        {
          "output_type": "stream",
          "name": "stdout",
          "text": [
            "True\n"
          ]
        }
      ]
    },
    {
      "cell_type": "markdown",
      "source": [
        "Encuentra el número duplicado en la lista de enteros."
      ],
      "metadata": {
        "id": "TSQlD_8NTSqf"
      }
    },
    {
      "cell_type": "code",
      "source": [
        "lista=[3, 3, 4, 5, 2, 111, 5]\n",
        "def find_duplicates(lista):\n",
        "    duplicates, seen = set(), set()\n",
        "    for element in lista:\n",
        "        if element in seen:\n",
        "            duplicates.add(element)\n",
        "        seen.add(element)\n",
        "    return list(duplicates)\n",
        "\n",
        "find_duplicates(lista)"
      ],
      "metadata": {
        "id": "5uQH_9soTTYx",
        "outputId": "ba2b24ee-1728-48ac-a2f8-48122d4cbe71",
        "colab": {
          "base_uri": "https://localhost:8080/"
        }
      },
      "execution_count": 7,
      "outputs": [
        {
          "output_type": "execute_result",
          "data": {
            "text/plain": [
              "[3, 5]"
            ]
          },
          "metadata": {},
          "execution_count": 7
        }
      ]
    },
    {
      "cell_type": "markdown",
      "source": [
        "Comprobar si dos cadenas son anagramas.\n",
        "\n"
      ],
      "metadata": {
        "id": "hC0-oyJwp02V"
      }
    },
    {
      "cell_type": "code",
      "source": [
        "def is_anagram(s1, s2):\n",
        "    return set(s1) == set(s2)\n",
        "print(is_anagram(\"elvis\", \"lives\")) # True"
      ],
      "metadata": {
        "id": "gKIK0XwGp3M2",
        "outputId": "fb189063-227e-4181-e1c3-f42e2e3307f0",
        "colab": {
          "base_uri": "https://localhost:8080/"
        }
      },
      "execution_count": 8,
      "outputs": [
        {
          "output_type": "stream",
          "name": "stdout",
          "text": [
            "True\n"
          ]
        }
      ]
    },
    {
      "cell_type": "markdown",
      "source": [
        "Eliminar todos los duplicados de la lista.\n",
        "\n"
      ],
      "metadata": {
        "id": "BJpSJc9Fp6uO"
      }
    },
    {
      "cell_type": "code",
      "source": [
        "lista = list(range(10)) + list(range(10))\n",
        "print(lista)\n",
        "# [0, 1, 2, 3, 4, 5, 6, 7, 8, 9, 0, 1, 2, 3, 4, 5, 6, 7, 8, 9]\n",
        "\n",
        "lista = list(set(lista))\n",
        "print(lista)\n",
        "# [0, 1, 2, 3, 4, 5, 6, 7, 8, 9]"
      ],
      "metadata": {
        "id": "CBuT_HY7p_sL",
        "outputId": "f8999b34-d85f-497d-d72b-31e6836dd5b3",
        "colab": {
          "base_uri": "https://localhost:8080/"
        }
      },
      "execution_count": 9,
      "outputs": [
        {
          "output_type": "stream",
          "name": "stdout",
          "text": [
            "[0, 1, 2, 3, 4, 5, 6, 7, 8, 9, 0, 1, 2, 3, 4, 5, 6, 7, 8, 9]\n",
            "[0, 1, 2, 3, 4, 5, 6, 7, 8, 9]\n"
          ]
        }
      ]
    },
    {
      "cell_type": "markdown",
      "source": [
        "Encuentra pares de enteros en la lista para que su suma sea igual al entero x.\n",
        "\n"
      ],
      "metadata": {
        "id": "GzHexuwcqKif"
      }
    },
    {
      "cell_type": "code",
      "source": [
        "#lista=[3, 3, 4, 5, 2, 111, 5]\n",
        "def find_pairs(l, x):\n",
        "    pairs = []\n",
        "    for (i, el_1) in enumerate(l):\n",
        "        for (j, el_2) in enumerate(l[i+1:]):\n",
        "            if el_1 + el_2 == x:\n",
        "                pairs.append((el_1, el_2))\n",
        "    return pairs\n",
        "\n",
        "find_pairs(lista,9)"
      ],
      "metadata": {
        "id": "DjnqFDagqQX7",
        "outputId": "655cc261-a319-4969-bd6a-4bb86ea12782",
        "colab": {
          "base_uri": "https://localhost:8080/"
        }
      },
      "execution_count": 17,
      "outputs": [
        {
          "output_type": "execute_result",
          "data": {
            "text/plain": [
              "[(5, 4), (4, 5)]"
            ]
          },
          "metadata": {},
          "execution_count": 17
        }
      ]
    },
    {
      "cell_type": "markdown",
      "source": [
        "Comprobar si una cadena es un palíndromo.\n",
        "\n"
      ],
      "metadata": {
        "id": "QM58-jiHqkDF"
      }
    },
    {
      "cell_type": "code",
      "source": [
        "def is_palindrome(phrase):\n",
        "    return phrase == phrase[::-1]\n",
        "print(is_palindrome(\"anna\")) # True"
      ],
      "metadata": {
        "id": "tCbShz8YqoBB",
        "outputId": "180ab303-7664-4a44-989c-2e599b39d302",
        "colab": {
          "base_uri": "https://localhost:8080/"
        }
      },
      "execution_count": 10,
      "outputs": [
        {
          "output_type": "stream",
          "name": "stdout",
          "text": [
            "True\n"
          ]
        }
      ]
    },
    {
      "cell_type": "markdown",
      "source": [
        "Use una lista como matriz, pila y cola."
      ],
      "metadata": {
        "id": "Les9D0D4qtMx"
      }
    },
    {
      "cell_type": "code",
      "source": [
        "# Lista como una matriz.\n",
        "lista = [3, 4]\n",
        "print(\">>> Matriz Antes  : \" + str(lista))\n",
        "lista += [5, 6] # l = [3, 4, 5, 6]\n",
        "print(\">>> Matriz Despues: \" + str(lista))\n",
        "\n",
        "# Lista como una pila:\n",
        "# El ultimo que entra es el primero que sale.\n",
        "lista.append(10) # lista = [3, 4, 5, 6, 10]\n",
        "print(\">>> Pila Antes    : \" + str(lista))\n",
        "lista.pop() # lista = [3, 4, 5, 6]\n",
        "print(\">>> Pila Despues  : \" + str(lista))\n",
        "\n",
        "# Lista como una cola.\n",
        "# El ultimo que entra es el ultimo que sale\n",
        "lista.insert(0, 5) # lista = [5, 3, 4, 5, 6]\n",
        "print(\">>> Cola Antes    : \" + str(lista))\n",
        "lista.pop() # lista = [5, 3, 4, 5]\n",
        "print(\">>> Cola Despues  : \" + str(lista))"
      ],
      "metadata": {
        "id": "YfTR0iPpqsRw",
        "outputId": "e4c60c26-41da-4b5c-f6fc-170628946bfc",
        "colab": {
          "base_uri": "https://localhost:8080/"
        }
      },
      "execution_count": 11,
      "outputs": [
        {
          "output_type": "stream",
          "name": "stdout",
          "text": [
            ">>> Matriz Antes  : [3, 4]\n",
            ">>> Matriz Despues: [3, 4, 5, 6]\n",
            ">>> Pila Antes    : [3, 4, 5, 6, 10]\n",
            ">>> Pila Despues  : [3, 4, 5, 6]\n",
            ">>> Cola Antes    : [5, 3, 4, 5, 6]\n",
            ">>> Cola Despues  : [5, 3, 4, 5]\n"
          ]
        }
      ]
    }
  ],
  "metadata": {
    "colab": {
      "name": "Welcome To Colab",
      "toc_visible": true,
      "provenance": [],
      "include_colab_link": true
    },
    "kernelspec": {
      "display_name": "Python 3",
      "name": "python3"
    }
  },
  "nbformat": 4,
  "nbformat_minor": 0
}